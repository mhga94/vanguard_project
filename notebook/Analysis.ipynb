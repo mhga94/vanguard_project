{
 "cells": [
  {
   "cell_type": "code",
   "execution_count": 1,
   "id": "e39fa01b-58fe-43cc-974c-066df90e1e70",
   "metadata": {},
   "outputs": [],
   "source": [
    "import pandas as pd\n",
    "import matplotlib.pyplot as plt\n",
    "import numpy as np\n",
    "import seaborn as sns"
   ]
  },
  {
   "cell_type": "code",
   "execution_count": 2,
   "id": "cd269d1d-761c-4502-b865-50c3bc6c44be",
   "metadata": {},
   "outputs": [],
   "source": [
    "demo_cleaned = pd.read_table(r'../data/demo_cleaned', sep = ',')\n",
    "exp_cleaned = pd.read_table(r'../data/exp_cleaned', sep = ',')\n",
    "web_cleaned = pd.read_table(r'../data/web_cleaned', sep = ',')"
   ]
  },
  {
   "cell_type": "code",
   "execution_count": 20,
   "id": "52660b90-e197-4301-b9c1-5498021fbdef",
   "metadata": {},
   "outputs": [
    {
     "data": {
      "text/html": [
       "<div>\n",
       "<style scoped>\n",
       "    .dataframe tbody tr th:only-of-type {\n",
       "        vertical-align: middle;\n",
       "    }\n",
       "\n",
       "    .dataframe tbody tr th {\n",
       "        vertical-align: top;\n",
       "    }\n",
       "\n",
       "    .dataframe thead th {\n",
       "        text-align: right;\n",
       "    }\n",
       "</style>\n",
       "<table border=\"1\" class=\"dataframe\">\n",
       "  <thead>\n",
       "    <tr style=\"text-align: right;\">\n",
       "      <th></th>\n",
       "      <th>Unnamed: 0</th>\n",
       "      <th>client_id</th>\n",
       "      <th>visitor_id</th>\n",
       "      <th>visit_id</th>\n",
       "      <th>process_step</th>\n",
       "      <th>date_time</th>\n",
       "      <th>Variation</th>\n",
       "    </tr>\n",
       "  </thead>\n",
       "  <tbody>\n",
       "    <tr>\n",
       "      <th>0</th>\n",
       "      <td>0</td>\n",
       "      <td>9988021</td>\n",
       "      <td>580560515_7732621733</td>\n",
       "      <td>781255054_21935453173_531117</td>\n",
       "      <td>step_3</td>\n",
       "      <td>2017-04-17 15:27:07</td>\n",
       "      <td>Test</td>\n",
       "    </tr>\n",
       "    <tr>\n",
       "      <th>1</th>\n",
       "      <td>1</td>\n",
       "      <td>9988021</td>\n",
       "      <td>580560515_7732621733</td>\n",
       "      <td>781255054_21935453173_531117</td>\n",
       "      <td>step_2</td>\n",
       "      <td>2017-04-17 15:26:51</td>\n",
       "      <td>Test</td>\n",
       "    </tr>\n",
       "    <tr>\n",
       "      <th>2</th>\n",
       "      <td>2</td>\n",
       "      <td>9988021</td>\n",
       "      <td>580560515_7732621733</td>\n",
       "      <td>781255054_21935453173_531117</td>\n",
       "      <td>step_3</td>\n",
       "      <td>2017-04-17 15:19:22</td>\n",
       "      <td>Test</td>\n",
       "    </tr>\n",
       "    <tr>\n",
       "      <th>3</th>\n",
       "      <td>3</td>\n",
       "      <td>9988021</td>\n",
       "      <td>580560515_7732621733</td>\n",
       "      <td>781255054_21935453173_531117</td>\n",
       "      <td>step_2</td>\n",
       "      <td>2017-04-17 15:19:13</td>\n",
       "      <td>Test</td>\n",
       "    </tr>\n",
       "    <tr>\n",
       "      <th>4</th>\n",
       "      <td>4</td>\n",
       "      <td>9988021</td>\n",
       "      <td>580560515_7732621733</td>\n",
       "      <td>781255054_21935453173_531117</td>\n",
       "      <td>step_3</td>\n",
       "      <td>2017-04-17 15:18:04</td>\n",
       "      <td>Test</td>\n",
       "    </tr>\n",
       "    <tr>\n",
       "      <th>5</th>\n",
       "      <td>5</td>\n",
       "      <td>9988021</td>\n",
       "      <td>580560515_7732621733</td>\n",
       "      <td>781255054_21935453173_531117</td>\n",
       "      <td>step_2</td>\n",
       "      <td>2017-04-17 15:17:15</td>\n",
       "      <td>Test</td>\n",
       "    </tr>\n",
       "    <tr>\n",
       "      <th>6</th>\n",
       "      <td>6</td>\n",
       "      <td>9988021</td>\n",
       "      <td>580560515_7732621733</td>\n",
       "      <td>781255054_21935453173_531117</td>\n",
       "      <td>step_1</td>\n",
       "      <td>2017-04-17 15:17:01</td>\n",
       "      <td>Test</td>\n",
       "    </tr>\n",
       "    <tr>\n",
       "      <th>7</th>\n",
       "      <td>7</td>\n",
       "      <td>9988021</td>\n",
       "      <td>580560515_7732621733</td>\n",
       "      <td>781255054_21935453173_531117</td>\n",
       "      <td>start</td>\n",
       "      <td>2017-04-17 15:16:22</td>\n",
       "      <td>Test</td>\n",
       "    </tr>\n",
       "    <tr>\n",
       "      <th>8</th>\n",
       "      <td>8</td>\n",
       "      <td>8320017</td>\n",
       "      <td>39393514_33118319366</td>\n",
       "      <td>960651974_70596002104_312201</td>\n",
       "      <td>confirm</td>\n",
       "      <td>2017-04-05 13:10:05</td>\n",
       "      <td>Test</td>\n",
       "    </tr>\n",
       "    <tr>\n",
       "      <th>9</th>\n",
       "      <td>9</td>\n",
       "      <td>8320017</td>\n",
       "      <td>39393514_33118319366</td>\n",
       "      <td>960651974_70596002104_312201</td>\n",
       "      <td>step_3</td>\n",
       "      <td>2017-04-05 13:09:43</td>\n",
       "      <td>Test</td>\n",
       "    </tr>\n",
       "  </tbody>\n",
       "</table>\n",
       "</div>"
      ],
      "text/plain": [
       "   Unnamed: 0  client_id            visitor_id                      visit_id  \\\n",
       "0           0    9988021  580560515_7732621733  781255054_21935453173_531117   \n",
       "1           1    9988021  580560515_7732621733  781255054_21935453173_531117   \n",
       "2           2    9988021  580560515_7732621733  781255054_21935453173_531117   \n",
       "3           3    9988021  580560515_7732621733  781255054_21935453173_531117   \n",
       "4           4    9988021  580560515_7732621733  781255054_21935453173_531117   \n",
       "5           5    9988021  580560515_7732621733  781255054_21935453173_531117   \n",
       "6           6    9988021  580560515_7732621733  781255054_21935453173_531117   \n",
       "7           7    9988021  580560515_7732621733  781255054_21935453173_531117   \n",
       "8           8    8320017  39393514_33118319366  960651974_70596002104_312201   \n",
       "9           9    8320017  39393514_33118319366  960651974_70596002104_312201   \n",
       "\n",
       "  process_step            date_time Variation  \n",
       "0       step_3  2017-04-17 15:27:07      Test  \n",
       "1       step_2  2017-04-17 15:26:51      Test  \n",
       "2       step_3  2017-04-17 15:19:22      Test  \n",
       "3       step_2  2017-04-17 15:19:13      Test  \n",
       "4       step_3  2017-04-17 15:18:04      Test  \n",
       "5       step_2  2017-04-17 15:17:15      Test  \n",
       "6       step_1  2017-04-17 15:17:01      Test  \n",
       "7        start  2017-04-17 15:16:22      Test  \n",
       "8      confirm  2017-04-05 13:10:05      Test  \n",
       "9       step_3  2017-04-05 13:09:43      Test  "
      ]
     },
     "execution_count": 20,
     "metadata": {},
     "output_type": "execute_result"
    }
   ],
   "source": [
    "web_test.head(10)"
   ]
  },
  {
   "cell_type": "code",
   "execution_count": 15,
   "id": "0dd3ebbc-b8dd-4ef7-a470-617df4b5f3c4",
   "metadata": {},
   "outputs": [],
   "source": [
    "test_join = web_cleaned.merge(exp_cleaned[['client_id', 'Variation']], on='client_id', how='left', suffixes=('', '_exp'), validate='many_to_one')"
   ]
  },
  {
   "cell_type": "code",
   "execution_count": 17,
   "id": "950f360a-23fc-4237-a24b-04ad9a0d0f06",
   "metadata": {},
   "outputs": [],
   "source": [
    "web_test = test_join[test_join['Variation'] == 'Test']\n",
    "web_control = test_join[test_join['Variation'] == 'Control']"
   ]
  },
  {
   "cell_type": "markdown",
   "id": "fe61c479-24d7-44f5-b91e-2e3621782988",
   "metadata": {},
   "source": [
    "## Count backward steps and compare"
   ]
  },
  {
   "cell_type": "code",
   "execution_count": 35,
   "id": "d8c35a94-7fc1-411a-9545-35e10306c9e6",
   "metadata": {},
   "outputs": [
    {
     "data": {
      "text/html": [
       "<div>\n",
       "<style scoped>\n",
       "    .dataframe tbody tr th:only-of-type {\n",
       "        vertical-align: middle;\n",
       "    }\n",
       "\n",
       "    .dataframe tbody tr th {\n",
       "        vertical-align: top;\n",
       "    }\n",
       "\n",
       "    .dataframe thead th {\n",
       "        text-align: right;\n",
       "    }\n",
       "</style>\n",
       "<table border=\"1\" class=\"dataframe\">\n",
       "  <thead>\n",
       "    <tr style=\"text-align: right;\">\n",
       "      <th></th>\n",
       "      <th>Unnamed: 0</th>\n",
       "      <th>client_id</th>\n",
       "      <th>visitor_id</th>\n",
       "      <th>visit_id</th>\n",
       "      <th>process_step</th>\n",
       "      <th>date_time</th>\n",
       "      <th>Variation</th>\n",
       "      <th>backward_step</th>\n",
       "    </tr>\n",
       "  </thead>\n",
       "  <tbody>\n",
       "    <tr>\n",
       "      <th>0</th>\n",
       "      <td>0</td>\n",
       "      <td>9988021</td>\n",
       "      <td>580560515_7732621733</td>\n",
       "      <td>781255054_21935453173_531117</td>\n",
       "      <td>step_3</td>\n",
       "      <td>2017-04-17 15:27:07</td>\n",
       "      <td>Test</td>\n",
       "      <td>False</td>\n",
       "    </tr>\n",
       "    <tr>\n",
       "      <th>1</th>\n",
       "      <td>1</td>\n",
       "      <td>9988021</td>\n",
       "      <td>580560515_7732621733</td>\n",
       "      <td>781255054_21935453173_531117</td>\n",
       "      <td>step_2</td>\n",
       "      <td>2017-04-17 15:26:51</td>\n",
       "      <td>Test</td>\n",
       "      <td>False</td>\n",
       "    </tr>\n",
       "    <tr>\n",
       "      <th>2</th>\n",
       "      <td>2</td>\n",
       "      <td>9988021</td>\n",
       "      <td>580560515_7732621733</td>\n",
       "      <td>781255054_21935453173_531117</td>\n",
       "      <td>step_3</td>\n",
       "      <td>2017-04-17 15:19:22</td>\n",
       "      <td>Test</td>\n",
       "      <td>True</td>\n",
       "    </tr>\n",
       "    <tr>\n",
       "      <th>3</th>\n",
       "      <td>3</td>\n",
       "      <td>9988021</td>\n",
       "      <td>580560515_7732621733</td>\n",
       "      <td>781255054_21935453173_531117</td>\n",
       "      <td>step_2</td>\n",
       "      <td>2017-04-17 15:19:13</td>\n",
       "      <td>Test</td>\n",
       "      <td>False</td>\n",
       "    </tr>\n",
       "    <tr>\n",
       "      <th>4</th>\n",
       "      <td>4</td>\n",
       "      <td>9988021</td>\n",
       "      <td>580560515_7732621733</td>\n",
       "      <td>781255054_21935453173_531117</td>\n",
       "      <td>step_3</td>\n",
       "      <td>2017-04-17 15:18:04</td>\n",
       "      <td>Test</td>\n",
       "      <td>True</td>\n",
       "    </tr>\n",
       "  </tbody>\n",
       "</table>\n",
       "</div>"
      ],
      "text/plain": [
       "   Unnamed: 0  client_id            visitor_id                      visit_id  \\\n",
       "0           0    9988021  580560515_7732621733  781255054_21935453173_531117   \n",
       "1           1    9988021  580560515_7732621733  781255054_21935453173_531117   \n",
       "2           2    9988021  580560515_7732621733  781255054_21935453173_531117   \n",
       "3           3    9988021  580560515_7732621733  781255054_21935453173_531117   \n",
       "4           4    9988021  580560515_7732621733  781255054_21935453173_531117   \n",
       "\n",
       "  process_step            date_time Variation  backward_step  \n",
       "0       step_3  2017-04-17 15:27:07      Test          False  \n",
       "1       step_2  2017-04-17 15:26:51      Test          False  \n",
       "2       step_3  2017-04-17 15:19:22      Test           True  \n",
       "3       step_2  2017-04-17 15:19:13      Test          False  \n",
       "4       step_3  2017-04-17 15:18:04      Test           True  "
      ]
     },
     "execution_count": 35,
     "metadata": {},
     "output_type": "execute_result"
    }
   ],
   "source": [
    "web_test.head()"
   ]
  },
  {
   "cell_type": "code",
   "execution_count": 31,
   "id": "0991234b-8e3e-41bc-9eb5-9f7682d6745f",
   "metadata": {},
   "outputs": [],
   "source": [
    "# Create the shift dfs\n",
    "web_test_shift = web_test.shift(1)\n",
    "web_control_shift = web_control.shift(1)\n",
    "\n",
    "backward_step = [('confirm','step_3'),('confirm','step_2'),('confirm','step_1'),('confirm','start'),\n",
    "                 ('step_3','step_2'),('step_3','step_1'),('step_3','start'),\n",
    "                 ('step_2','step_1'),('step_2','start'),\n",
    "                 ('step_1','start')]\n",
    "\n",
    "# For the test group\n",
    "web_test.loc[:, 'backward_step'] = [step in backward_step for step in zip(web_test['process_step'], web_test_shift['process_step'])]\n",
    "count_backward_steps_test = web_test['backward_step'].sum()\n",
    "\n",
    "# For the control group\n",
    "web_control.loc[:, 'backward_step'] = [step in backward_step for step in zip(web_control['process_step'], web_control_shift['process_step'])]\n",
    "count_backward_steps_control = web_control['backward_step'].sum()"
   ]
  },
  {
   "cell_type": "code",
   "execution_count": 32,
   "id": "37c8527a-4e61-49c8-a87e-370d498f4e90",
   "metadata": {},
   "outputs": [
    {
     "data": {
      "text/plain": [
       "38675"
      ]
     },
     "execution_count": 32,
     "metadata": {},
     "output_type": "execute_result"
    }
   ],
   "source": [
    "count_backward_steps_test"
   ]
  },
  {
   "cell_type": "code",
   "execution_count": 33,
   "id": "ef99ea80-a4be-41df-a5e8-bae7394b3b55",
   "metadata": {},
   "outputs": [
    {
     "data": {
      "text/plain": [
       "29879"
      ]
     },
     "execution_count": 33,
     "metadata": {},
     "output_type": "execute_result"
    }
   ],
   "source": [
    "count_backward_steps_control"
   ]
  },
  {
   "cell_type": "code",
   "execution_count": 30,
   "id": "e369359d-98a5-46df-acd5-398e02bfc4d8",
   "metadata": {},
   "outputs": [
    {
     "data": {
      "text/plain": [
       "True"
      ]
     },
     "execution_count": 30,
     "metadata": {},
     "output_type": "execute_result"
    }
   ],
   "source": [
    "('step_3', 'step_2') in backward_step"
   ]
  },
  {
   "cell_type": "code",
   "execution_count": null,
   "id": "808ac241-29f5-49fb-8b04-f58dd42fbdfd",
   "metadata": {},
   "outputs": [],
   "source": []
  }
 ],
 "metadata": {
  "kernelspec": {
   "display_name": "Python 3 (ipykernel)",
   "language": "python",
   "name": "python3"
  },
  "language_info": {
   "codemirror_mode": {
    "name": "ipython",
    "version": 3
   },
   "file_extension": ".py",
   "mimetype": "text/x-python",
   "name": "python",
   "nbconvert_exporter": "python",
   "pygments_lexer": "ipython3",
   "version": "3.11.7"
  }
 },
 "nbformat": 4,
 "nbformat_minor": 5
}
